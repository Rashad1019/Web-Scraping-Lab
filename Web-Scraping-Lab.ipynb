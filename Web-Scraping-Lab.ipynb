{
 "cells": [
  {
   "cell_type": "markdown",
   "metadata": {},
   "source": [
    "<p style=\"text-align:center\">\n",
    "    <a href=\"https://skills.network/?utm_medium=Exinfluencer&utm_source=Exinfluencer&utm_content=000026UJ&utm_term=10006555&utm_id=NA-SkillsNetwork-Channel-SkillsNetworkCoursesIBMDA0321ENSkillsNetwork928-2022-01-01\" target=\"_blank\">\n",
    "    <img src=\"https://cf-courses-data.s3.us.cloud-object-storage.appdomain.cloud/assets/logos/SN_web_lightmode.png\" width=\"200\" alt=\"Skills Network Logo\"  />\n",
    "    </a>\n",
    "</p>\n"
   ]
  },
  {
   "cell_type": "markdown",
   "metadata": {},
   "source": [
    "# **Hands-on Lab : Web Scraping**\n"
   ]
  },
  {
   "cell_type": "markdown",
   "metadata": {},
   "source": [
    "Estimated time needed: **30 to 45** minutes\n"
   ]
  },
  {
   "cell_type": "markdown",
   "metadata": {},
   "source": [
    "## Objectives\n"
   ]
  },
  {
   "cell_type": "markdown",
   "metadata": {},
   "source": [
    "In this lab you will perform the following:\n"
   ]
  },
  {
   "cell_type": "markdown",
   "metadata": {},
   "source": [
    "* Extract information from a given web site \n",
    "* Write the scraped data into a csv file.\n"
   ]
  },
  {
   "cell_type": "markdown",
   "metadata": {},
   "source": [
    "## Extract information from the given web site\n",
    "You will extract the data from the below web site: <br> \n"
   ]
  },
  {
   "cell_type": "code",
   "execution_count": 1,
   "metadata": {},
   "outputs": [],
   "source": [
    "#this url contains the data you need to scrape\n",
    "url = \"https://cf-courses-data.s3.us.cloud-object-storage.appdomain.cloud/IBM-DA0321EN-SkillsNetwork/labs/datasets/Programming_Languages.html\""
   ]
  },
  {
   "cell_type": "markdown",
   "metadata": {},
   "source": [
    "The data you need to scrape is the **name of the programming language** and **average annual salary**.<br> It is a good idea to open the url in your web broswer and study the contents of the web page before you start to scrape.\n"
   ]
  },
  {
   "cell_type": "markdown",
   "metadata": {},
   "source": [
    "Import the required libraries\n"
   ]
  },
  {
   "cell_type": "code",
   "execution_count": 1,
   "metadata": {},
   "outputs": [],
   "source": [
    "import requests\n",
    "from bs4 import BeautifulSoup\n",
    "import pandas as pd"
   ]
  },
  {
   "cell_type": "markdown",
   "metadata": {},
   "source": [
    "Download the webpage at the url\n"
   ]
  },
  {
   "cell_type": "code",
   "execution_count": 3,
   "metadata": {},
   "outputs": [
    {
     "name": "stdout",
     "output_type": "stream",
     "text": [
      "Webpage downloaded successfully.\n"
     ]
    }
   ],
   "source": [
    "# URL of the webpage to scrape\n",
    "url = \"https://cf-courses-data.s3.us.cloud-object-storage.appdomain.cloud/IBM-DA0321EN-SkillsNetwork/labs/datasets/Programming_Languages.html\"\n",
    "\n",
    "# Send a GET request to the URL\n",
    "response = requests.get(url)\n",
    "\n",
    "# Check if the request was successful\n",
    "if response.status_code == 200:\n",
    "    print(\"Webpage downloaded successfully.\")\n",
    "    # The content of the webpage is now in response.content\n",
    "else:\n",
    "    print(f\"Failed to download webpage. Status code: {response.status_code}\")"
   ]
  },
  {
   "cell_type": "markdown",
   "metadata": {},
   "source": [
    "Create a soup object\n"
   ]
  },
  {
   "cell_type": "code",
   "execution_count": 4,
   "metadata": {},
   "outputs": [
    {
     "name": "stdout",
     "output_type": "stream",
     "text": [
      "\n",
      "Salary survey results of programming languages\n",
      "\n"
     ]
    }
   ],
   "source": [
    "# Create a BeautifulSoup object to parse the HTML content\n",
    "soup = BeautifulSoup(response.content, 'html.parser')\n",
    "\n",
    "# Verify that the soup object was created successfully\n",
    "print(soup.title.string if soup.title else \"Title not found\")"
   ]
  },
  {
   "cell_type": "markdown",
   "metadata": {},
   "source": [
    "Scrape the `Language name` and `annual average salary`.\n"
   ]
  },
  {
   "cell_type": "code",
   "execution_count": 10,
   "metadata": {},
   "outputs": [
    {
     "name": "stdout",
     "output_type": "stream",
     "text": [
      "Extracted data:\n",
      "Language: Python, Annual Average Salary: $114,383\n",
      "Language: Java, Annual Average Salary: $101,013\n",
      "Language: R, Annual Average Salary: $92,037\n",
      "Language: Javascript, Annual Average Salary: $110,981\n",
      "Language: Swift, Annual Average Salary: $130,801\n",
      "Language: C++, Annual Average Salary: $113,865\n",
      "Language: C#, Annual Average Salary: $88,726\n",
      "Language: PHP, Annual Average Salary: $84,727\n",
      "Language: SQL, Annual Average Salary: $84,793\n",
      "Language: Go, Annual Average Salary: $94,082\n",
      "\n",
      "Total languages found: 10\n"
     ]
    }
   ],
   "source": [
    "# Find the table containing the data\n",
    "table = soup.find('table')\n",
    "\n",
    "# Initialize lists to store the data\n",
    "languages = []\n",
    "annual_average_salaries = []\n",
    "\n",
    "# Check if table is found\n",
    "if table:\n",
    "    # Find all table rows\n",
    "    rows = table.find_all('tr')\n",
    "    \n",
    "    # Check if we have a header row\n",
    "    if rows and len(rows) > 1:\n",
    "        # Iterate through table rows, skipping the header\n",
    "        for row in rows[1:]:\n",
    "            columns = row.find_all('td')\n",
    "            if len(columns) >= 4:  # Ensure we have at least 4 columns\n",
    "                language = columns[1].text.strip()\n",
    "                salary = columns[3].text.strip()  # This is the \"Average Annual Salary\" column\n",
    "                \n",
    "                languages.append(language)\n",
    "                annual_average_salaries.append(salary)\n",
    "    \n",
    "    # Print the extracted data\n",
    "    print(\"Extracted data:\")\n",
    "    for lang, salary in zip(languages, annual_average_salaries):\n",
    "        print(f\"Language: {lang}, Annual Average Salary: {salary}\")\n",
    "else:\n",
    "    print(\"Table not found in the HTML content.\")\n",
    "\n",
    "# Print the total number of languages found\n",
    "print(f\"\\nTotal languages found: {len(languages)}\")"
   ]
  },
  {
   "cell_type": "markdown",
   "metadata": {},
   "source": [
    "Save the scrapped data into a file named *popular-languages.csv*\n"
   ]
  },
  {
   "cell_type": "code",
   "execution_count": 11,
   "metadata": {},
   "outputs": [
    {
     "name": "stdout",
     "output_type": "stream",
     "text": [
      "Data has been scraped and saved to popular-languages.csv\n",
      "Total languages saved: 10\n"
     ]
    }
   ],
   "source": [
    "import requests\n",
    "from bs4 import BeautifulSoup\n",
    "import pandas as pd\n",
    "\n",
    "# URL of the webpage to scrape\n",
    "url = \"https://cf-courses-data.s3.us.cloud-object-storage.appdomain.cloud/IBM-DA0321EN-SkillsNetwork/labs/datasets/Programming_Languages.html\"\n",
    "\n",
    "# Send a GET request to the URL\n",
    "response = requests.get(url)\n",
    "\n",
    "# Create a BeautifulSoup object to parse the HTML content\n",
    "soup = BeautifulSoup(response.content, 'html.parser')\n",
    "\n",
    "# Find the table containing the data\n",
    "table = soup.find('table')\n",
    "\n",
    "# Initialize lists to store the data\n",
    "languages = []\n",
    "annual_average_salaries = []\n",
    "\n",
    "# Check if table is found\n",
    "if table:\n",
    "    # Find all table rows\n",
    "    rows = table.find_all('tr')\n",
    "    \n",
    "    # Iterate through table rows, skipping the header\n",
    "    for row in rows[1:]:\n",
    "        columns = row.find_all('td')\n",
    "        if len(columns) >= 4:  # Ensure we have at least 4 columns\n",
    "            language = columns[1].text.strip()\n",
    "            salary = columns[3].text.strip()  # This is the \"Average Annual Salary\" column\n",
    "            \n",
    "            languages.append(language)\n",
    "            annual_average_salaries.append(salary)\n",
    "    \n",
    "    # Create a pandas DataFrame\n",
    "    df = pd.DataFrame({\n",
    "        'Language': languages,\n",
    "        'Annual Average Salary': annual_average_salaries\n",
    "    })\n",
    "    \n",
    "    # Save the DataFrame to a CSV file\n",
    "    csv_filename = 'popular-languages.csv'\n",
    "    df.to_csv(csv_filename, index=False)\n",
    "    \n",
    "    print(f\"Data has been scraped and saved to {csv_filename}\")\n",
    "    print(f\"Total languages saved: {len(languages)}\")\n",
    "else:\n",
    "    print(\"Table not found in the HTML content.\")"
   ]
  },
  {
   "cell_type": "markdown",
   "metadata": {},
   "source": [
    "## Authors\n"
   ]
  },
  {
   "cell_type": "markdown",
   "metadata": {},
   "source": [
    "Ramesh Sannareddy\n"
   ]
  },
  {
   "cell_type": "markdown",
   "metadata": {},
   "source": [
    "### Other Contributors\n"
   ]
  },
  {
   "cell_type": "markdown",
   "metadata": {},
   "source": [
    "Rav Ahuja\n"
   ]
  },
  {
   "cell_type": "markdown",
   "metadata": {},
   "source": [
    "## Change Log\n"
   ]
  },
  {
   "cell_type": "markdown",
   "metadata": {},
   "source": [
    "|  Date (YYYY-MM-DD) |  Version | Changed By  |  Change Description |\n",
    "|---|---|---|---|\n",
    "| 2020-10-17  | 0.1  | Ramesh Sannareddy  |  Created initial version of the lab |\n"
   ]
  },
  {
   "cell_type": "markdown",
   "metadata": {},
   "source": [
    " Copyright &copy; 2020 IBM Corporation. This notebook and its source code are released under the terms of the [MIT License](https://cognitiveclass.ai/mit-license/?utm_medium=Exinfluencer&utm_source=Exinfluencer&utm_content=000026UJ&utm_term=10006555&utm_id=NA-SkillsNetwork-Channel-SkillsNetworkCoursesIBMDA0321ENSkillsNetwork928-2022-01-01).\n"
   ]
  }
 ],
 "metadata": {
  "kernelspec": {
   "display_name": "Python 3 (ipykernel)",
   "language": "python",
   "name": "python3"
  },
  "language_info": {
   "codemirror_mode": {
    "name": "ipython",
    "version": 3
   },
   "file_extension": ".py",
   "mimetype": "text/x-python",
   "name": "python",
   "nbconvert_exporter": "python",
   "pygments_lexer": "ipython3",
   "version": "3.8.19"
  }
 },
 "nbformat": 4,
 "nbformat_minor": 4
}
